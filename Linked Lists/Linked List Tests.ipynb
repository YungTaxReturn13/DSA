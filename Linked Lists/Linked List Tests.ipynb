{
 "cells": [
  {
   "cell_type": "markdown",
   "id": "d62616c7-90bd-4cac-8e2f-7e22b725f8a6",
   "metadata": {},
   "source": [
    "# Node"
   ]
  },
  {
   "cell_type": "code",
   "execution_count": 1,
   "id": "4f4ed45f-0e54-44b0-927f-70ba5e959678",
   "metadata": {},
   "outputs": [],
   "source": [
    "class Node:\n",
    "    def __init__(self, value, next_node, prev_node):\n",
    "        self._value = value\n",
    "        self._next_node = next_node\n",
    "        self._prev_node = prev_node"
   ]
  },
  {
   "cell_type": "markdown",
   "id": "7cee3e74-09bb-42d9-80dd-1bc6116907b9",
   "metadata": {},
   "source": [
    "# Singly Linked List"
   ]
  },
  {
   "cell_type": "code",
   "execution_count": null,
   "id": "8a4702a8-7c62-40af-8e32-49eb3b146de3",
   "metadata": {},
   "outputs": [],
   "source": [
    "class SinglyLinkedList:\n",
    "    pass"
   ]
  }
 ],
 "metadata": {
  "kernelspec": {
   "display_name": "Python 3",
   "language": "python",
   "name": "python3"
  },
  "language_info": {
   "codemirror_mode": {
    "name": "ipython",
    "version": 3
   },
   "file_extension": ".py",
   "mimetype": "text/x-python",
   "name": "python",
   "nbconvert_exporter": "python",
   "pygments_lexer": "ipython3",
   "version": "3.8.8"
  }
 },
 "nbformat": 4,
 "nbformat_minor": 5
}
