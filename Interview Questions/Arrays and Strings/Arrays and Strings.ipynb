{
 "cells": [
  {
   "cell_type": "markdown",
   "id": "325f0ccc-f127-490a-bfec-f85554f2f220",
   "metadata": {},
   "source": [
    "# Common Techniques and issues \n",
    "\n",
    "Note that array question and string questions are often interchangable. \n",
    "\n",
    "## Hash Tables \n",
    "\n",
    "If the number of collisions in a hash table are very high, the worst case runtime for searching for an item in a has table is O(n), where n is the number of keys. However, we generally assume a good implementation that keeps collisions to a minimum, in which case the lookup time is O(1). \n",
    "\n",
    "## Dyanmic Arrays\n",
    "The amortized insertion runtime is O(1). Suppose you have an array of size N. We can work backwards to compute how many elements were copied at each capacity increase. Observe that when you increase the array to K elements, the array was perviously have that size. Therefore we had to copy over k/2 elements. Therefore, the total number of copies to insert N elements is roughly N/2 + N/4 + N/8 + ... + 2 + 1 , which is just less than N. This is similar to if oyu had a mile long walk to the store and you walk 0.5 miles, then 0.25, then 0.125 and so on. You will never exceed one mile although you get very close to it. \n",
    "\n",
    "Therefore, inserting N elements takes o(N) work total. Each insertion is o(1) on average, even though some insertions take O(n) time in the worst case \n",
    "\n",
    "# String Builder \n",
    "\n",
    "if you had to continually concatentate a letter to a string, on each concatenation, a new copy of the string is created, and the two strings are copied over, character by character. The first iteration requires us to copy x characters. The second iteration requires copying 2x characters. The third iteration requires 3x and so on. The total time therefore is 0(x + 2x + ... + nx) which reduces down to O(xn^2)\n",
    "\n",
    "It is better to use an array to hold the characters and then join them, copying them back to a string only when necessary \n",
    "\n",
    "---\n",
    "# QUESTIONS "
   ]
  },
  {
   "cell_type": "code",
   "execution_count": 43,
   "id": "a37b7431-ecce-4a80-b093-c8aa8fe4f899",
   "metadata": {},
   "outputs": [],
   "source": [
    "import unittest"
   ]
  },
  {
   "cell_type": "markdown",
   "id": "53823f5f-4e0f-4eb3-9ce2-527727e46502",
   "metadata": {},
   "source": [
    "# Is Unique \n",
    "\n",
    "Implement an algorithm to determine if a string has all unique characters. WHat if you cannot use additional data structures? "
   ]
  },
  {
   "cell_type": "markdown",
   "id": "3eacfbbc-2205-490a-972d-c03d0d1c87c0",
   "metadata": {},
   "source": [
    "**General Idea**\n",
    "The optimal approach would be to either use a list or a dictionary to act as a record if we have seen a letter before. This way, in the worst case scenario, we would have to go through the list once, leading to a time complexity of O(n). \n",
    "\n",
    "**Improvements**\n",
    "We could also ask whether the string is either ASCII or Unicode. There are far greater # of characters in Unicode vs ASCII (less than 200 for regular ascii and 256 for exte4nded ascii vs in the hundred thousands). Then we can then add a clause in the beginning of our function that checks if our string is greater than that number and immediatley return false. \n",
    "\n"
   ]
  },
  {
   "cell_type": "code",
   "execution_count": 3,
   "id": "d723c7c1-ca05-4414-bdb2-fdb05b4a3bb9",
   "metadata": {},
   "outputs": [],
   "source": [
    "string1 = \"qwertyu\"  # has no repeating characters \n",
    "string2 = \"qwertbq\" # does have 1 repeating character "
   ]
  },
  {
   "cell_type": "code",
   "execution_count": 4,
   "id": "b1e0033f-9cbc-40b9-9b2e-ccf0a5b03907",
   "metadata": {},
   "outputs": [],
   "source": [
    "# using a dictionary\n",
    "def is_unique(string):\n",
    "    dictionary = {}\n",
    "    for i in list(string):\n",
    "        if i in dictionary:\n",
    "            return False\n",
    "        else:\n",
    "            dictionary[i] = 1\n",
    "    return True "
   ]
  },
  {
   "cell_type": "code",
   "execution_count": 5,
   "id": "0496bd71-edde-4a79-977b-b8a1a895800a",
   "metadata": {},
   "outputs": [
    {
     "data": {
      "text/plain": [
       "False"
      ]
     },
     "execution_count": 5,
     "metadata": {},
     "output_type": "execute_result"
    }
   ],
   "source": [
    "is_unique(string2)"
   ]
  },
  {
   "cell_type": "code",
   "execution_count": 6,
   "id": "e2e09f1f-7ccb-4dda-871d-1abb40345350",
   "metadata": {},
   "outputs": [],
   "source": [
    "# leveraging the fact that there is a number associated with the characters and using a list \n",
    "\n",
    "def is_unique(string):\n",
    "    store = [None] * 256\n",
    "    for i in list(string):\n",
    "        if store[ord(i)] is not None:\n",
    "            return False\n",
    "        else:\n",
    "            store[ord(i)] = 1\n",
    "    return True"
   ]
  },
  {
   "cell_type": "code",
   "execution_count": 7,
   "id": "46d9bdc4-29f0-42be-8ced-d0f858b290f6",
   "metadata": {},
   "outputs": [
    {
     "data": {
      "text/plain": [
       "True"
      ]
     },
     "execution_count": 7,
     "metadata": {},
     "output_type": "execute_result"
    }
   ],
   "source": [
    "is_unique(string1)"
   ]
  },
  {
   "cell_type": "markdown",
   "id": "efc6b6e7-c996-4839-9eee-03cb06972ab7",
   "metadata": {},
   "source": [
    "If we could not use additional data structures, there are two approaches we could take with their different benefits and setbacks. \n",
    "\n",
    "The most straightforward solution would be to check every letter against every other letter, which would lead to a big O(n^2). This saves on memory but takes more time. \n",
    "\n",
    "The other approach would be to first sort the string and then compare every letter to the one that comes after. This would be faster with O(n log n) and then searching through with O(n). This would require some memory to sort but would be faster. Both implementations are below. "
   ]
  },
  {
   "cell_type": "code",
   "execution_count": 13,
   "id": "cd75bf4e-b2ab-4942-92f5-5646ce22a673",
   "metadata": {},
   "outputs": [],
   "source": [
    "# O(n^2)\n",
    "def is_unique(string):\n",
    "    for i,j in enumerate(string):\n",
    "        for x in range(i + 1,len(string)):\n",
    "            if string[x] == j:\n",
    "                return False\n",
    "    return True \n",
    "        "
   ]
  },
  {
   "cell_type": "code",
   "execution_count": 16,
   "id": "8a84926d-846c-4473-b978-aa90e1b95990",
   "metadata": {},
   "outputs": [
    {
     "data": {
      "text/plain": [
       "False"
      ]
     },
     "execution_count": 16,
     "metadata": {},
     "output_type": "execute_result"
    }
   ],
   "source": [
    "is_unique(string2)"
   ]
  },
  {
   "cell_type": "code",
   "execution_count": 37,
   "id": "2ce593b6-86a5-46a5-b09e-0d3da09f7620",
   "metadata": {},
   "outputs": [],
   "source": [
    "# sorting\n",
    "def is_unique(string):\n",
    "    sorted_string = sorted(string)\n",
    "    for i,j in enumerate(sorted_string[:-1]):\n",
    "        if j == sorted_string[i + 1]:\n",
    "            return False \n",
    "    return True "
   ]
  },
  {
   "cell_type": "code",
   "execution_count": 38,
   "id": "31f37faf-6c0b-4ca5-8ac5-e4c74659fcbf",
   "metadata": {},
   "outputs": [
    {
     "data": {
      "text/plain": [
       "True"
      ]
     },
     "execution_count": 38,
     "metadata": {},
     "output_type": "execute_result"
    }
   ],
   "source": [
    "is_unique(string1)"
   ]
  },
  {
   "cell_type": "markdown",
   "id": "7aa3c9cc-f031-423e-ae52-bfed59162892",
   "metadata": {},
   "source": [
    "---"
   ]
  },
  {
   "cell_type": "markdown",
   "id": "9208beea-910b-488e-89d5-77cdada93d49",
   "metadata": {},
   "source": [
    "# Check Permutation \n",
    "\n",
    "Given two strings, write a method to decide if one is a permutation of the other\n",
    "\n",
    "There are two approaches that come to mind, depending on how you think of permutation. One way to think of permutation is the ordering of characters and the other way to think of it would be the number of each character. \n",
    "\n",
    "The order approach has a higher big o, but the code is simpler"
   ]
  },
  {
   "cell_type": "code",
   "execution_count": 42,
   "id": "a6024712-310f-4bc4-9f1a-7594111c6b86",
   "metadata": {},
   "outputs": [],
   "source": [
    "s1 = 'abcdefghijklmnopqrstuvwxyz' # all of the letters of the alphabet\n",
    "s2 = 'qwertyuiopasdfghjklzxcvbnm' # all of the letters in a different order\n",
    "\n",
    "s3 = 'qwertyuioqasdfghjklzxcvbnm' # repeated q\n",
    "s4 = 'qwertyuiopasdfghjklzxcvbnm' # all of the letters "
   ]
  },
  {
   "cell_type": "code",
   "execution_count": 43,
   "id": "5b7c80e4-d193-490b-a3de-3f51f26f506c",
   "metadata": {},
   "outputs": [
    {
     "name": "stdout",
     "output_type": "stream",
     "text": [
      "True\n",
      "False\n"
     ]
    }
   ],
   "source": [
    "# Order approach \n",
    "def check_permutation(s1, s2):\n",
    "    return sorted(s1) == sorted(s2)\n",
    "\n",
    "print(check_permutation(s1,s2)) # should be true \n",
    "print(check_permutation(s3,s4)) # should be false "
   ]
  },
  {
   "cell_type": "code",
   "execution_count": 44,
   "id": "a0be40ea-af4c-4f0f-8b27-00f014a46e7a",
   "metadata": {},
   "outputs": [
    {
     "name": "stdout",
     "output_type": "stream",
     "text": [
      "True\n",
      "False\n"
     ]
    }
   ],
   "source": [
    "# number approach \n",
    "def check_permutation(s1, s2):\n",
    "    s1_dict = {}\n",
    "    s2_dict = {}\n",
    "    \n",
    "    for i in s1:\n",
    "        if i in s1_dict:\n",
    "            s1_dict[i] += 1\n",
    "        else:\n",
    "            s1_dict[i] = 1\n",
    "\n",
    "    for i in s2:\n",
    "        if i in s2_dict:\n",
    "            s2_dict[i] += 1\n",
    "        else:\n",
    "            s2_dict[i] = 1\n",
    "    \n",
    "    return s1_dict == s2_dict\n",
    "\n",
    "print(check_permutation(s1,s2)) # should be true \n",
    "print(check_permutation(s3,s4)) # should be false "
   ]
  },
  {
   "cell_type": "markdown",
   "id": "d166c76d-63ac-4bd0-a6f1-851526f9035e",
   "metadata": {},
   "source": [
    "# Palindrome Permutation\n",
    "Given a string, write a function to check if it is a permutation of a palindrome. A palindrome is a word or phrase that is the same forwards and backwards. A permutation is a rearrangement of letters. This palindrome does not need to be limited to just dictionary words \n",
    "\n",
    "We should use a hash table to count how  many times a character appears. Then, we iterate through the hash table and ensure that no more than one character has an odd count "
   ]
  },
  {
   "cell_type": "code",
   "execution_count": 18,
   "id": "cc2e7202-d1b9-48a4-be32-4282fea846f3",
   "metadata": {},
   "outputs": [],
   "source": [
    "should_be_true = \"tact coa\"\n",
    "should_be_false = \"this is not a palindrome permutation\""
   ]
  },
  {
   "cell_type": "code",
   "execution_count": 19,
   "id": "ce119ca8-ad58-45a5-9e9b-e1fd8867c175",
   "metadata": {},
   "outputs": [],
   "source": [
    "def pal_perm(string):\n",
    "    holder = {}\n",
    "    tracker = 0\n",
    "    for i in string:\n",
    "        if i.isalpha():\n",
    "            if i.lower() in holder:\n",
    "                holder[i.lower()] += 1\n",
    "            else:\n",
    "                holder[i.lower()] = 1\n",
    "\n",
    "            tracker += 1\n",
    "\n",
    "    # now need to go through the holder\n",
    "    odd_trigger = tracker % 2\n",
    "    for j in holder.values():\n",
    "        if odd_trigger and (j % 2 == 1):\n",
    "            odd_trigger -= 1\n",
    "        elif j % 2 == 1:\n",
    "            return False\n",
    "    return True\n"
   ]
  },
  {
   "cell_type": "code",
   "execution_count": 20,
   "id": "381e7fbe-d38d-41e4-b820-c3dec281bad7",
   "metadata": {},
   "outputs": [
    {
     "data": {
      "text/plain": [
       "True"
      ]
     },
     "execution_count": 20,
     "metadata": {},
     "output_type": "execute_result"
    }
   ],
   "source": [
    "pal_perm(\"abba\")"
   ]
  },
  {
   "cell_type": "code",
   "execution_count": 21,
   "id": "3bccda47-4500-4bea-b31d-3208fce6f0bf",
   "metadata": {},
   "outputs": [
    {
     "data": {
      "text/plain": [
       "False"
      ]
     },
     "execution_count": 21,
     "metadata": {},
     "output_type": "execute_result"
    }
   ],
   "source": [
    "pal_perm(should_be_false)"
   ]
  },
  {
   "cell_type": "markdown",
   "id": "03d89567-b18e-430a-b22d-69d399b8c536",
   "metadata": {},
   "source": [
    "# One Away \n",
    "\n",
    "There are 3 types of edits that can be perfomed on the two given strings: \n",
    "* Insert a character \n",
    "* Remove a character \n",
    "* Replace a character \n",
    "\n",
    "Given two strings, write a function to check if they are one (or zero) edits away\n",
    "\n",
    "ex) pale ,ple -> True \\\n",
    "    pales, pale -> True \\\n",
    "    pale, bale -> True \\\n",
    "    pale, bake -> False \n",
    "    \n",
    "First we check if the strings are the same, then we dont have to do any work and just return true. Then we have to realize that checking whether a string is missing a character can check both removing and inserting, depending on how we view it. Finally, if the characters are the same size, then we can run through both and make sure that there is at most one discrepency. "
   ]
  },
  {
   "cell_type": "code",
   "execution_count": 1,
   "id": "3193452e-446f-4637-bd2f-96b646b40d3c",
   "metadata": {},
   "outputs": [],
   "source": [
    "def one_away(s1, s2):\n",
    "    # checking if the strings are the same\n",
    "    if s1 == s2:\n",
    "        return True\n",
    "\n",
    "    # determining the lengths of the strings so we can decide which function to call\n",
    "    s1_len = len(s1)\n",
    "    s2_len = len(s2)\n",
    "\n",
    "    if s1_len == s2_len:\n",
    "        return equal_length(s1, s2)\n",
    "\n",
    "    if abs(s1_len - s2_len) > 1:\n",
    "        return False\n",
    "\n",
    "    if s1_len > s2_len:\n",
    "        return diff_length(s1, s2)\n",
    "\n",
    "    if s2_len > s1_len:\n",
    "        return diff_length(s2, s1)\n",
    "\n",
    "\n",
    "def equal_length(s1, s2):\n",
    "    ALLOWANCE = 1\n",
    "    for i, j in enumerate(s1):\n",
    "        if j != s2[i]:\n",
    "            if ALLOWANCE == 0:\n",
    "                return False\n",
    "            else:\n",
    "                ALLOWANCE -= 1\n",
    "    return True\n",
    "\n",
    "\n",
    "def diff_length(longer, shorter):\n",
    "    counter = 0\n",
    "    for i in shorter:\n",
    "        if i != longer[counter]:\n",
    "            counter += 1\n",
    "            if i != longer[counter]:\n",
    "                return False\n",
    "        else:\n",
    "            counter += 1\n",
    "\n",
    "    return True"
   ]
  },
  {
   "cell_type": "code",
   "execution_count": 6,
   "id": "972e66b3-8787-41b1-b9bb-1b6acb3e4405",
   "metadata": {},
   "outputs": [
    {
     "data": {
      "text/plain": [
       "False"
      ]
     },
     "execution_count": 6,
     "metadata": {},
     "output_type": "execute_result"
    }
   ],
   "source": [
    "one_away('pale', 'bake')"
   ]
  },
  {
   "cell_type": "markdown",
   "id": "72f5c2fc-7725-4f47-902b-a9e1a951be47",
   "metadata": {},
   "source": [
    "# String Compression \n",
    "\n",
    "Implement a method to perform basic string compression using the counts of repeated characters. If the \"compressed\" string would not become smaller than the original string, your method should return hte original string. You can assume the string has onle uppercase and lowercase letters \n",
    "\n",
    "ex) aabcccccaaa -> a2b1c5a3\n",
    "\n",
    "The implementation seems fairly straighforward. We iterate through the string, copying the characters to a new string and counting the repeats. At each iteration, check if the current character is the same as the next character. if not, add its compressed version to the result. This works but remember **when building a string that you will need to repeatedly append to, it is better to use a list and then join**. String join is significantly faster then concatenation because Strings are immutable and can't be changed in place. To alter one, a new representation needs to be created (a concatenation of the two) String concatenation operates in O(n^2). This would mean that the runtime would be O(p + k^2) where p is the size of the original string and k is the number of character sequences. \n",
    "\n",
    "\n",
    "We can avoid this by using a string builder "
   ]
  },
  {
   "cell_type": "code",
   "execution_count": 15,
   "id": "1833348c-1191-427d-a4dc-425c3e357126",
   "metadata": {},
   "outputs": [],
   "source": [
    "def string_compression(string):\n",
    "    compressed = []\n",
    "    holder = \"\"\n",
    "    count = 0\n",
    "\n",
    "    for i in string:\n",
    "        if i != holder:\n",
    "            if holder != \"\":\n",
    "                compressed.append(holder)\n",
    "            if count != 0:\n",
    "                compressed.append(str(count))\n",
    "            holder = i\n",
    "            count = 1\n",
    "        else:\n",
    "            count += 1\n",
    "    compressed.append(holder)\n",
    "    compressed.append(str(count))\n",
    "    if len(string) > len(compressed):\n",
    "        return \"\".join(compressed)\n",
    "    else:\n",
    "        return string"
   ]
  },
  {
   "cell_type": "code",
   "execution_count": 16,
   "id": "3c56443d-dd7d-4eb8-9682-808b949b667e",
   "metadata": {},
   "outputs": [
    {
     "data": {
      "text/plain": [
       "'a2b1c5a3'"
      ]
     },
     "execution_count": 16,
     "metadata": {},
     "output_type": "execute_result"
    }
   ],
   "source": [
    "string_compression('aabcccccaaa')"
   ]
  },
  {
   "cell_type": "code",
   "execution_count": null,
   "id": "f32fdb53-a38c-42e9-987e-4e126744d4c0",
   "metadata": {},
   "outputs": [],
   "source": []
  },
  {
   "cell_type": "markdown",
   "id": "aefca0b6-2dcf-4947-bcd9-c7015cac17d9",
   "metadata": {},
   "source": [
    "# Rotate Matrix \n",
    "\n",
    "Given an image represented by an NxN matrix, write a method to rotate the image by 90 degrees. Can you do this in place?\n",
    "\n",
    "If you had no memory constraints and did not have to do this in place, all you had to do is copy the rows into the correct collumns and the matrix would be rotated. Given that the question is asking you to do this in place is where things get difficult. \n",
    "\n",
    "Since the matrix will be NxN, we can think of the matrix as having an outer layer and then inner layers. We would shift around each cell to the corresponding position at a time. We can do this by holding a temporary variable with the value of the top left cell, move the value of the bottom left to the top left. The bottom right to the bottom left, top right to the bottom right, and finall the temp into the top right.\n",
    "\n",
    "We then shift over by one until and repeat the process until we get to N -1 since the very last cell would have been rotated. \n",
    "\n",
    "Since the matrix is NxN, we can have a left and right variable that keeps track of the outermost layer, which would also keep track of the top and bottom as well. \n",
    "\n",
    "Once we sort out the outer layer, all we have to do is increase our left (bottom) and right (top) variables to get to the inner layer. You would do this until the right equlas the left, then you know you are done \n",
    "\n",
    "**This one was hard to wrap my head around. Will need to revisit later**"
   ]
  },
  {
   "cell_type": "code",
   "execution_count": 473,
   "id": "c127c72c-2382-4bfc-b712-2c0362757bfb",
   "metadata": {},
   "outputs": [],
   "source": [
    "import pandas as pd\n",
    "from copy import deepcopy"
   ]
  },
  {
   "cell_type": "code",
   "execution_count": 474,
   "id": "fd5e7790-27c5-491c-800b-9552bd6edcf1",
   "metadata": {},
   "outputs": [],
   "source": [
    "x = [[1,2,3,4],[5,6,7,8],[9,10,11,12],[13,14,15,16]]"
   ]
  },
  {
   "cell_type": "code",
   "execution_count": 475,
   "id": "f4d2c6a4-78f9-494a-a69d-5b94b1b1350c",
   "metadata": {},
   "outputs": [],
   "source": [
    "df = pd.DataFrame(x)"
   ]
  },
  {
   "cell_type": "code",
   "execution_count": 476,
   "id": "4f7ee273-059b-4373-8e69-7bb0f07f52f5",
   "metadata": {},
   "outputs": [
    {
     "data": {
      "text/html": [
       "<div>\n",
       "<style scoped>\n",
       "    .dataframe tbody tr th:only-of-type {\n",
       "        vertical-align: middle;\n",
       "    }\n",
       "\n",
       "    .dataframe tbody tr th {\n",
       "        vertical-align: top;\n",
       "    }\n",
       "\n",
       "    .dataframe thead th {\n",
       "        text-align: right;\n",
       "    }\n",
       "</style>\n",
       "<table border=\"1\" class=\"dataframe\">\n",
       "  <thead>\n",
       "    <tr style=\"text-align: right;\">\n",
       "      <th></th>\n",
       "      <th>0</th>\n",
       "      <th>1</th>\n",
       "      <th>2</th>\n",
       "      <th>3</th>\n",
       "    </tr>\n",
       "  </thead>\n",
       "  <tbody>\n",
       "    <tr>\n",
       "      <th>0</th>\n",
       "      <td>1</td>\n",
       "      <td>2</td>\n",
       "      <td>3</td>\n",
       "      <td>4</td>\n",
       "    </tr>\n",
       "    <tr>\n",
       "      <th>1</th>\n",
       "      <td>5</td>\n",
       "      <td>6</td>\n",
       "      <td>7</td>\n",
       "      <td>8</td>\n",
       "    </tr>\n",
       "    <tr>\n",
       "      <th>2</th>\n",
       "      <td>9</td>\n",
       "      <td>10</td>\n",
       "      <td>11</td>\n",
       "      <td>12</td>\n",
       "    </tr>\n",
       "    <tr>\n",
       "      <th>3</th>\n",
       "      <td>13</td>\n",
       "      <td>14</td>\n",
       "      <td>15</td>\n",
       "      <td>16</td>\n",
       "    </tr>\n",
       "  </tbody>\n",
       "</table>\n",
       "</div>"
      ],
      "text/plain": [
       "    0   1   2   3\n",
       "0   1   2   3   4\n",
       "1   5   6   7   8\n",
       "2   9  10  11  12\n",
       "3  13  14  15  16"
      ]
     },
     "execution_count": 476,
     "metadata": {},
     "output_type": "execute_result"
    }
   ],
   "source": [
    "df"
   ]
  },
  {
   "cell_type": "code",
   "execution_count": 477,
   "id": "6d693a0c-23bb-4aa4-8e4a-fc31d34904f4",
   "metadata": {},
   "outputs": [],
   "source": [
    "def rotate_matrix(matrix):\n",
    "    n = len(matrix)\n",
    "    L = 0\n",
    "    R = n-1 \n",
    "    \n",
    "    while R >= L:\n",
    "        for i in range(R-L):\n",
    "\n",
    "            # top left corner temp \n",
    "            temp = matrix[L][L+i]\n",
    "\n",
    "            # moving bottom left to top left \n",
    "            matrix[L][L+i] = matrix[R-i][L]\n",
    "\n",
    "            # moving bottom left to top left \n",
    "            matrix[R-i][L] = matrix[R][R-i]\n",
    "\n",
    "            # moving right column to bottom \n",
    "            matrix[R][R-i] = matrix[L+i][R]\n",
    "\n",
    "            # moving temp to right column \n",
    "            matrix[L+i][R] = temp\n",
    "        \n",
    "        R -= 1 \n",
    "        L += 1 \n",
    "        \n",
    "    \n",
    "    \n",
    "\n",
    "\n"
   ]
  },
  {
   "cell_type": "code",
   "execution_count": 478,
   "id": "23787007-67ce-4be3-8754-d0e8bda8bd03",
   "metadata": {},
   "outputs": [],
   "source": [
    "rotate_matrix(x)"
   ]
  },
  {
   "cell_type": "code",
   "execution_count": 479,
   "id": "ca621c06-4d6a-4ee8-a58f-1461e5a21a9a",
   "metadata": {},
   "outputs": [
    {
     "data": {
      "text/html": [
       "<div>\n",
       "<style scoped>\n",
       "    .dataframe tbody tr th:only-of-type {\n",
       "        vertical-align: middle;\n",
       "    }\n",
       "\n",
       "    .dataframe tbody tr th {\n",
       "        vertical-align: top;\n",
       "    }\n",
       "\n",
       "    .dataframe thead th {\n",
       "        text-align: right;\n",
       "    }\n",
       "</style>\n",
       "<table border=\"1\" class=\"dataframe\">\n",
       "  <thead>\n",
       "    <tr style=\"text-align: right;\">\n",
       "      <th></th>\n",
       "      <th>0</th>\n",
       "      <th>1</th>\n",
       "      <th>2</th>\n",
       "      <th>3</th>\n",
       "    </tr>\n",
       "  </thead>\n",
       "  <tbody>\n",
       "    <tr>\n",
       "      <th>0</th>\n",
       "      <td>13</td>\n",
       "      <td>9</td>\n",
       "      <td>5</td>\n",
       "      <td>1</td>\n",
       "    </tr>\n",
       "    <tr>\n",
       "      <th>1</th>\n",
       "      <td>14</td>\n",
       "      <td>10</td>\n",
       "      <td>6</td>\n",
       "      <td>2</td>\n",
       "    </tr>\n",
       "    <tr>\n",
       "      <th>2</th>\n",
       "      <td>15</td>\n",
       "      <td>11</td>\n",
       "      <td>7</td>\n",
       "      <td>3</td>\n",
       "    </tr>\n",
       "    <tr>\n",
       "      <th>3</th>\n",
       "      <td>16</td>\n",
       "      <td>12</td>\n",
       "      <td>8</td>\n",
       "      <td>4</td>\n",
       "    </tr>\n",
       "  </tbody>\n",
       "</table>\n",
       "</div>"
      ],
      "text/plain": [
       "    0   1  2  3\n",
       "0  13   9  5  1\n",
       "1  14  10  6  2\n",
       "2  15  11  7  3\n",
       "3  16  12  8  4"
      ]
     },
     "execution_count": 479,
     "metadata": {},
     "output_type": "execute_result"
    }
   ],
   "source": [
    "pd.DataFrame(x)"
   ]
  },
  {
   "cell_type": "markdown",
   "id": "bf61041b-9a83-4dc8-8821-790e2a18b957",
   "metadata": {},
   "source": [
    "# Zero Matrix \n",
    "\n",
    "Write an algorithm such that if an element in an MxN matrix is 0, its entire row and column are set to 0. \n",
    "\n",
    "My initial approach would have been to just go through all of the items in the matrix and put in a list the coordinates that are 0. Then can zero out rows and columns that way. \n",
    "\n",
    "If you wanted to approach the problem without having to create another data structure, you could use the first row and first column as holders for the zero instead of a list. But if you were to take this approach, then you would need to first take note if there were any zeros in them to begin with because then those would need to be overwritten with zeroes as well "
   ]
  },
  {
   "cell_type": "code",
   "execution_count": 2,
   "id": "5f8024ec-f1ac-4056-8231-a530072d687e",
   "metadata": {},
   "outputs": [],
   "source": [
    "def zero_matrix(matrix):\n",
    "    n_rows = len(matrix)\n",
    "    n_columns = len(matrix[0])\n",
    "\n",
    "    row_zero = False\n",
    "    column_zero = False\n",
    "\n",
    "    # Going through and checking if there are any zeros in the first column and row\n",
    "    for i in matrix[0]:\n",
    "        if i == 0:\n",
    "            row_zero = True\n",
    "    for i in matrix:\n",
    "        if i[0] == 0:\n",
    "            column_zero = True\n",
    "\n",
    "    # bulk of the zeroes get identified here\n",
    "    for i in range(1, n_rows):\n",
    "        for j in range(1, n_columns):\n",
    "            if matrix[i][j] == 0:\n",
    "                matrix[0][j] = 0\n",
    "                matrix[i][0] = 0\n",
    "\n",
    "    # converting columns\n",
    "    for i, j in enumerate(matrix[0]):\n",
    "        if j == 0:\n",
    "            for x in range(n_rows):\n",
    "                matrix[x][i] = 0\n",
    "\n",
    "    # converting rows\n",
    "    for i, j in enumerate(matrix):\n",
    "        if j[0] == 0:\n",
    "            for x in range(n_columns):\n",
    "                matrix[i][x] = 0\n",
    "\n",
    "    # converting the top row and first column if necessary\n",
    "    if row_zero:\n",
    "        for i in range(n_columns):\n",
    "            matrix[0][i] = 0\n",
    "\n",
    "    if column_zero:\n",
    "        for i in range(n_rows):\n",
    "            matrix[i][0] = 0"
   ]
  },
  {
   "cell_type": "markdown",
   "id": "a70d37e0-585f-47d6-bc9a-ae9cc7e18b76",
   "metadata": {},
   "source": [
    "# String rotation \n",
    "\n",
    "Assume you have a method is_substring which checks if one word is a substring of another. Given two strigs, s1 and s2, write code to check if s2 is a rotation of s1 using only one call to is_substring \n",
    "\n",
    "ex) waterbottle is a rotation of erbottlewat\n",
    "\n",
    "This one is really easy once you know the trick. you have to realize that there is a pivot point within the string where it rotates. all you have to do is put the string twice to complete the word at some point within the combined string "
   ]
  },
  {
   "cell_type": "code",
   "execution_count": 1,
   "id": "0eac9381-d7fe-4220-a8c5-ff3cf5e42b01",
   "metadata": {},
   "outputs": [],
   "source": [
    "def string_rotation(s1, s2):\n",
    "    return is_substring(s1+s1, s2)"
   ]
  },
  {
   "cell_type": "code",
   "execution_count": null,
   "id": "52c902e9-b7c1-4a97-ba28-642ba7237660",
   "metadata": {},
   "outputs": [],
   "source": []
  }
 ],
 "metadata": {
  "kernelspec": {
   "display_name": "Python 3",
   "language": "python",
   "name": "python3"
  },
  "language_info": {
   "codemirror_mode": {
    "name": "ipython",
    "version": 3
   },
   "file_extension": ".py",
   "mimetype": "text/x-python",
   "name": "python",
   "nbconvert_exporter": "python",
   "pygments_lexer": "ipython3",
   "version": "3.8.8"
  }
 },
 "nbformat": 4,
 "nbformat_minor": 5
}
