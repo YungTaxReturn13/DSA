{
 "cells": [
  {
   "cell_type": "markdown",
   "id": "53823f5f-4e0f-4eb3-9ce2-527727e46502",
   "metadata": {},
   "source": [
    "# Is Unique \n",
    "\n",
    "Implement an algorithm to determine if a string has all unique characters. WHat if you cannot use additional data structures? "
   ]
  },
  {
   "cell_type": "markdown",
   "id": "3eacfbbc-2205-490a-972d-c03d0d1c87c0",
   "metadata": {},
   "source": [
    "**General Idea**\n",
    "The optimal approach would be to either use a list or a dictionary to act as a record if we have seen a letter before. This way, in the worst case scenario, we would have to go through the list once, leading to a time complexity of O(n). \n",
    "\n",
    "**Improvements**\n",
    "We could also ask whether the string is either ASCII or Unicode. There are far greater # of characters in Unicode vs ASCII (less than 200 for regular ascii and 256 for exte4nded ascii vs in the hundred thousands). Then we can then add a clause in the beginning of our function that checks if our string is greater than that number and immediatley return false. \n",
    "\n"
   ]
  },
  {
   "cell_type": "code",
   "execution_count": 3,
   "id": "d723c7c1-ca05-4414-bdb2-fdb05b4a3bb9",
   "metadata": {},
   "outputs": [],
   "source": [
    "string1 = \"qwertyu\"  # has no repeating characters \n",
    "string2 = \"qwertbq\" # does have 1 repeating character "
   ]
  },
  {
   "cell_type": "code",
   "execution_count": 4,
   "id": "b1e0033f-9cbc-40b9-9b2e-ccf0a5b03907",
   "metadata": {},
   "outputs": [],
   "source": [
    "# using a dictionary\n",
    "def is_unique(string):\n",
    "    dictionary = {}\n",
    "    for i in list(string):\n",
    "        if i in dictionary:\n",
    "            return False\n",
    "        else:\n",
    "            dictionary[i] = 1\n",
    "    return True "
   ]
  },
  {
   "cell_type": "code",
   "execution_count": 5,
   "id": "0496bd71-edde-4a79-977b-b8a1a895800a",
   "metadata": {},
   "outputs": [
    {
     "data": {
      "text/plain": [
       "False"
      ]
     },
     "execution_count": 5,
     "metadata": {},
     "output_type": "execute_result"
    }
   ],
   "source": [
    "is_unique(string2)"
   ]
  },
  {
   "cell_type": "code",
   "execution_count": 6,
   "id": "e2e09f1f-7ccb-4dda-871d-1abb40345350",
   "metadata": {},
   "outputs": [],
   "source": [
    "# leveraging the fact that there is a number associated with the characters and using a list \n",
    "\n",
    "def is_unique(string):\n",
    "    store = [None] * 256\n",
    "    for i in list(string):\n",
    "        if store[ord(i)] is not None:\n",
    "            return False\n",
    "        else:\n",
    "            store[ord(i)] = 1\n",
    "    return True"
   ]
  },
  {
   "cell_type": "code",
   "execution_count": 7,
   "id": "46d9bdc4-29f0-42be-8ced-d0f858b290f6",
   "metadata": {},
   "outputs": [
    {
     "data": {
      "text/plain": [
       "True"
      ]
     },
     "execution_count": 7,
     "metadata": {},
     "output_type": "execute_result"
    }
   ],
   "source": [
    "is_unique(string1)"
   ]
  },
  {
   "cell_type": "markdown",
   "id": "efc6b6e7-c996-4839-9eee-03cb06972ab7",
   "metadata": {},
   "source": [
    "If we could not use additional data structures, there are two approaches we could take with their different benefits and setbacks. \n",
    "\n",
    "The most straightforward solution would be to check every letter against every other letter, which would lead to a big O(n^2). This saves on memory but takes more time. \n",
    "\n",
    "The other approach would be to first sort the string and then compare every letter to the one that comes after. This would be faster with O(n log n) and then searching through with O(n). This would require some memory to sort but would be faster. Both implementations are below. "
   ]
  },
  {
   "cell_type": "code",
   "execution_count": 13,
   "id": "cd75bf4e-b2ab-4942-92f5-5646ce22a673",
   "metadata": {},
   "outputs": [],
   "source": [
    "# O(n^2)\n",
    "def is_unique(string):\n",
    "    for i,j in enumerate(string):\n",
    "        for x in range(i + 1,len(string)):\n",
    "            if string[x] == j:\n",
    "                return False\n",
    "    return True \n",
    "        "
   ]
  },
  {
   "cell_type": "code",
   "execution_count": 16,
   "id": "8a84926d-846c-4473-b978-aa90e1b95990",
   "metadata": {},
   "outputs": [
    {
     "data": {
      "text/plain": [
       "False"
      ]
     },
     "execution_count": 16,
     "metadata": {},
     "output_type": "execute_result"
    }
   ],
   "source": [
    "is_unique(string2)"
   ]
  },
  {
   "cell_type": "code",
   "execution_count": 37,
   "id": "2ce593b6-86a5-46a5-b09e-0d3da09f7620",
   "metadata": {},
   "outputs": [],
   "source": [
    "# sorting\n",
    "def is_unique(string):\n",
    "    sorted_string = sorted(string)\n",
    "    for i,j in enumerate(sorted_string[:-1]):\n",
    "        if j == sorted_string[i + 1]:\n",
    "            return False \n",
    "    return True "
   ]
  },
  {
   "cell_type": "code",
   "execution_count": 38,
   "id": "31f37faf-6c0b-4ca5-8ac5-e4c74659fcbf",
   "metadata": {},
   "outputs": [
    {
     "data": {
      "text/plain": [
       "True"
      ]
     },
     "execution_count": 38,
     "metadata": {},
     "output_type": "execute_result"
    }
   ],
   "source": [
    "is_unique(string1)"
   ]
  },
  {
   "cell_type": "markdown",
   "id": "7aa3c9cc-f031-423e-ae52-bfed59162892",
   "metadata": {},
   "source": [
    "---"
   ]
  },
  {
   "cell_type": "markdown",
   "id": "9208beea-910b-488e-89d5-77cdada93d49",
   "metadata": {},
   "source": [
    "# Check Permutation \n",
    "\n",
    "Given two strings, write a method to decide if one is a permutation of the other\n",
    "\n",
    "There are two approaches that come to mind, depending on how you think of permutation. One way to think of permutation is the ordering of characters and the other way to think of it would be the number of each character. \n",
    "\n",
    "The order approach has a higher big o, but the code is simpler"
   ]
  },
  {
   "cell_type": "code",
   "execution_count": 42,
   "id": "a6024712-310f-4bc4-9f1a-7594111c6b86",
   "metadata": {},
   "outputs": [],
   "source": [
    "s1 = 'abcdefghijklmnopqrstuvwxyz' # all of the letters of the alphabet\n",
    "s2 = 'qwertyuiopasdfghjklzxcvbnm' # all of the letters in a different order\n",
    "\n",
    "s3 = 'qwertyuioqasdfghjklzxcvbnm' # repeated q\n",
    "s4 = 'qwertyuiopasdfghjklzxcvbnm' # all of the letters "
   ]
  },
  {
   "cell_type": "code",
   "execution_count": 43,
   "id": "5b7c80e4-d193-490b-a3de-3f51f26f506c",
   "metadata": {},
   "outputs": [
    {
     "name": "stdout",
     "output_type": "stream",
     "text": [
      "True\n",
      "False\n"
     ]
    }
   ],
   "source": [
    "# Order approach \n",
    "def check_permutation(s1, s2):\n",
    "    return sorted(s1) == sorted(s2)\n",
    "\n",
    "print(check_permutation(s1,s2)) # should be true \n",
    "print(check_permutation(s3,s4)) # should be false "
   ]
  },
  {
   "cell_type": "code",
   "execution_count": 44,
   "id": "a0be40ea-af4c-4f0f-8b27-00f014a46e7a",
   "metadata": {},
   "outputs": [
    {
     "name": "stdout",
     "output_type": "stream",
     "text": [
      "True\n",
      "False\n"
     ]
    }
   ],
   "source": [
    "# number approach \n",
    "def check_permutation(s1, s2):\n",
    "    s1_dict = {}\n",
    "    s2_dict = {}\n",
    "    \n",
    "    for i in s1:\n",
    "        if i in s1_dict:\n",
    "            s1_dict[i] += 1\n",
    "        else:\n",
    "            s1_dict[i] = 1\n",
    "\n",
    "    for i in s2:\n",
    "        if i in s2_dict:\n",
    "            s2_dict[i] += 1\n",
    "        else:\n",
    "            s2_dict[i] = 1\n",
    "    \n",
    "    return s1_dict == s2_dict\n",
    "\n",
    "print(check_permutation(s1,s2)) # should be true \n",
    "print(check_permutation(s3,s4)) # should be false "
   ]
  },
  {
   "cell_type": "code",
   "execution_count": null,
   "id": "459e92ba-4527-4723-829d-6bbbb9e83f1e",
   "metadata": {},
   "outputs": [],
   "source": []
  }
 ],
 "metadata": {
  "kernelspec": {
   "display_name": "Python 3",
   "language": "python",
   "name": "python3"
  },
  "language_info": {
   "codemirror_mode": {
    "name": "ipython",
    "version": 3
   },
   "file_extension": ".py",
   "mimetype": "text/x-python",
   "name": "python",
   "nbconvert_exporter": "python",
   "pygments_lexer": "ipython3",
   "version": "3.8.8"
  }
 },
 "nbformat": 4,
 "nbformat_minor": 5
}
