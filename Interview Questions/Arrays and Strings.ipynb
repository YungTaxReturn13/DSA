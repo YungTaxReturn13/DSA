{
 "cells": [
  {
   "cell_type": "markdown",
   "id": "53823f5f-4e0f-4eb3-9ce2-527727e46502",
   "metadata": {},
   "source": [
    "# Is Unique \n",
    "\n",
    "Implement an algorithm to determine if a string has all unique characters. WHat if you cannot use additional data structures? "
   ]
  },
  {
   "cell_type": "markdown",
   "id": "3eacfbbc-2205-490a-972d-c03d0d1c87c0",
   "metadata": {},
   "source": [
    "**General Idea**\n",
    "The optimal approach would be to either use a list or a dictionary to act as a record if we have seen a letter before. This way, in the worst case scenario, we would have to go through the list once, leading to a time complexity of O(n). \n",
    "\n",
    "**Improvements**\n",
    "We could also ask whether the string is either ASCII or Unicode. There are far greater # of characters in Unicode vs ASCII (less than 200 for regular ascii and 256 for exte4nded ascii vs in the hundred thousands). Then we can then add a clause in the beginning of our function that checks if our string is greater than that number and immediatley return false. \n",
    "\n"
   ]
  },
  {
   "cell_type": "code",
   "execution_count": 21,
   "id": "d723c7c1-ca05-4414-bdb2-fdb05b4a3bb9",
   "metadata": {},
   "outputs": [],
   "source": [
    "string1 = \"qwertyu\"  # has no repeating characters \n",
    "string2 = \"qwertbq\" # does have 1 repeating character "
   ]
  },
  {
   "cell_type": "code",
   "execution_count": 22,
   "id": "b1e0033f-9cbc-40b9-9b2e-ccf0a5b03907",
   "metadata": {},
   "outputs": [],
   "source": [
    "# using a dictionary\n",
    "def is_unique(string):\n",
    "    dictionary = {}\n",
    "    for i in list(string):\n",
    "        if i in dictionary:\n",
    "            return False\n",
    "        else:\n",
    "            dictionary[i] = 1\n",
    "    return True "
   ]
  },
  {
   "cell_type": "code",
   "execution_count": 24,
   "id": "0496bd71-edde-4a79-977b-b8a1a895800a",
   "metadata": {},
   "outputs": [
    {
     "data": {
      "text/plain": [
       "False"
      ]
     },
     "execution_count": 24,
     "metadata": {},
     "output_type": "execute_result"
    }
   ],
   "source": [
    "is_unique(string2)"
   ]
  },
  {
   "cell_type": "code",
   "execution_count": 27,
   "id": "e2e09f1f-7ccb-4dda-871d-1abb40345350",
   "metadata": {},
   "outputs": [],
   "source": [
    "# leveraging the fact that there is a number associated with the characters and using a list \n",
    "\n",
    "def is_unique(string):\n",
    "    store = [None] * 256\n",
    "    for i in list(string):\n",
    "        if store[ord(i)] is not None:\n",
    "            return False\n",
    "        else:\n",
    "            store[ord(i)] = 1\n",
    "    return True"
   ]
  },
  {
   "cell_type": "code",
   "execution_count": 29,
   "id": "46d9bdc4-29f0-42be-8ced-d0f858b290f6",
   "metadata": {},
   "outputs": [
    {
     "data": {
      "text/plain": [
       "True"
      ]
     },
     "execution_count": 29,
     "metadata": {},
     "output_type": "execute_result"
    }
   ],
   "source": [
    "is_unique(string1)"
   ]
  },
  {
   "cell_type": "markdown",
   "id": "efc6b6e7-c996-4839-9eee-03cb06972ab7",
   "metadata": {},
   "source": [
    "If we could not use additional data structures, there are two approaches we could take with their different benefits and setbacks. \n",
    "\n",
    "The most straightforward solution would be to check every letter against every other letter, which would lead to a big O(n^2). This saves on memory but takes more time. \n",
    "\n",
    "The other approach would be to first sort the string and then compare every letter to the one that comes after. This would be faster with O(n log n) and then searching through with O(n). This would require some memory to sort but would be faster. Both implementations are below. "
   ]
  },
  {
   "cell_type": "code",
   "execution_count": null,
   "id": "cd75bf4e-b2ab-4942-92f5-5646ce22a673",
   "metadata": {},
   "outputs": [],
   "source": []
  }
 ],
 "metadata": {
  "kernelspec": {
   "display_name": "Python 3 (ipykernel)",
   "language": "python",
   "name": "python3"
  },
  "language_info": {
   "codemirror_mode": {
    "name": "ipython",
    "version": 3
   },
   "file_extension": ".py",
   "mimetype": "text/x-python",
   "name": "python",
   "nbconvert_exporter": "python",
   "pygments_lexer": "ipython3",
   "version": "3.9.7"
  }
 },
 "nbformat": 4,
 "nbformat_minor": 5
}
