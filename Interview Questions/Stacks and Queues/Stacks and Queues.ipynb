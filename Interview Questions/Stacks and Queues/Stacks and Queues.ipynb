{
 "cells": [
  {
   "cell_type": "markdown",
   "id": "678c863f-d8fc-4eab-834e-9f175949f17e",
   "metadata": {},
   "source": [
    "# Stack Min\n",
    "\n",
    "How would you design a stack which, in addition to push & pop, has a function min which returns the minimum element? Push, pop, and min should all operate in O(1) time \n",
    "\n",
    "The easiest way to solve this problem would be to implement another stack to keep track of the minimum values. Everytime you push another value, check if it is less than or equal to the top of the minimum tracking stack. If so, than push onto that stack as well. Also when popping, check if the popped value is the same as the one from the minimum stack. If so, then pop that as well"
   ]
  },
  {
   "cell_type": "code",
   "execution_count": 4,
   "id": "c4392944-429b-47cb-a69a-d34d5bfdb899",
   "metadata": {},
   "outputs": [],
   "source": [
    "class StackMin:\n",
    "    def __init__(self):\n",
    "        self._data = []\n",
    "        self._min_tracker = []\n",
    "\n",
    "    def pop(self):\n",
    "        if len(self._data) == 0:\n",
    "            raise Exception(\"The stack is empty\")\n",
    "        x = self._data.pop()\n",
    "        if x == self._min_tracker[-1]:\n",
    "            self._min_tracker.pop()\n",
    "        return x\n",
    "\n",
    "    def push(self, e):\n",
    "        if len(self._min_tracker) == 0 or e <= self._min_tracker[-1]:\n",
    "            self._min_tracker.append(e)\n",
    "        self._data.append(e)\n",
    "\n",
    "    def minimum(self):\n",
    "        if len(self._min_tracker) == 0:\n",
    "            return None\n",
    "        return self._min_tracker[-1]"
   ]
  },
  {
   "cell_type": "markdown",
   "id": "e72f9443-248a-4251-80de-ffb9ae873629",
   "metadata": {},
   "source": [
    "# Stack of Plates\n",
    "\n",
    "Imagine a literal stack of plates. If the stack gets too high, it might topple. Therefore, in real life, we would likely start a new stack when the previous stack exceeds some threshold. Implement a data structure, SetOfStacks that mimics this. SetOfStacks should be composed of several stacks and should create a new stack once the previous one exceeds capacity. SetOfStacks.push() and SetOfStacks.pop() should behae identically to a single stack\n",
    "\n",
    "This one is actually pretty easy. We just need to implement a stack of stacks with logic to track length of the inner stacks "
   ]
  },
  {
   "cell_type": "code",
   "execution_count": 7,
   "id": "77007263-718c-4d3f-acf4-910865ecd860",
   "metadata": {},
   "outputs": [],
   "source": [
    "\n",
    "class SetOfStacks:\n",
    "    def __init__(self, limit):\n",
    "        self._data = []\n",
    "        self._limit = limit\n",
    "\n",
    "    def push(self, e):\n",
    "        if len(self._data) == 0 or len(self._data[-1]) == self._limit:\n",
    "            self._data.append([])\n",
    "        self._data[-1].append(e)\n",
    "\n",
    "    def pop(self):\n",
    "        if len(self._data[-1]) == 0:\n",
    "            self._data.pop()\n",
    "        return self._data[-1].pop()\n",
    "\n",
    "    def pop_at(self, i):\n",
    "        if len(self._data[i]) == 0:\n",
    "            self._data.pop(i)\n",
    "        return self._data[i].pop()"
   ]
  },
  {
   "cell_type": "markdown",
   "id": "ae4de797-69ff-4378-adb1-b1eaf5f96674",
   "metadata": {},
   "source": [
    "# Queue via Stacks \n",
    "\n",
    "Implement a MyQueue class which implements a queue using two stacks \n",
    "\n",
    "What you need to do is use 2 stacks and a variable to indicate whether you are in a position oy pop or in a position to push. When changing positions you need to copy all of the items to one stack and move them to the other. Then that stack is the current one you are working with. "
   ]
  },
  {
   "cell_type": "code",
   "execution_count": 8,
   "id": "5bae4e30-f1e5-4e54-b743-16503556f93c",
   "metadata": {},
   "outputs": [],
   "source": [
    "class MyQueue:\n",
    "    def __init__(self) -> None:\n",
    "        self._stack1 = []\n",
    "        self._stack2 = []\n",
    "        self._condition = True\n",
    "\n",
    "    def add(self, e):\n",
    "        if self._condition:\n",
    "            self._stack1.append(e)\n",
    "        else:\n",
    "            for _ in range(len(self._stack2)):\n",
    "                self._stack1.append(self._stack2.pop())\n",
    "            self._condition = True\n",
    "\n",
    "    def remove(self):\n",
    "        if not self._condition:\n",
    "            if self.is_empty():\n",
    "                return False\n",
    "            else:\n",
    "                return self._stack2.pop()\n",
    "        else:\n",
    "            for _ in range(len(self._stack1)):\n",
    "                self._stack2.append(self._stack1.pop())\n",
    "            if self.is_empty():\n",
    "                return False\n",
    "            return self._stack2.pop()\n",
    "\n",
    "    def is_empty(self):\n",
    "        if self._condition:\n",
    "            return len(self._stack2) == 0\n",
    "        else:\n",
    "            return len(self._stack1) == 0\n",
    "\n",
    "    def __len__(self):\n",
    "        if self._condition:\n",
    "            return len(self._stack1)\n",
    "        else:\n",
    "            return len(self._stack2)\n",
    "\n",
    "    def peek(self):\n",
    "        if not self._condition:\n",
    "            return self._stack2[-1]\n",
    "        else:\n",
    "            return self._stack1[0]"
   ]
  },
  {
   "cell_type": "code",
   "execution_count": null,
   "id": "b1961db6-24d8-4a4b-8308-d4310d8c6b38",
   "metadata": {},
   "outputs": [],
   "source": []
  },
  {
   "cell_type": "markdown",
   "id": "e56921ef-010b-4b55-8dd9-dfbc0280f3a0",
   "metadata": {},
   "source": [
    "# Sort Stack \n",
    "Write a program to sort a stack such that the smallest items are on top. You can use an additional temporary stack,, but you may not copy the elements into any other data structure.\n",
    "\n",
    "The way to sort a stack with another stack requires an additional temporary variable. This will hold a variable and allow other values to be popped from the original stack until it is time for the item to be added to the temporary stack. Then you just need to repop back into the orignial stack to get back to the reversed order. This will conduct in O(n^2) "
   ]
  },
  {
   "cell_type": "code",
   "execution_count": 30,
   "id": "ef9b7062-4747-4c96-9cb3-645686f6a41e",
   "metadata": {},
   "outputs": [],
   "source": [
    "class SotredStack:\n",
    "    def __init__(self):\n",
    "        self._data = []\n",
    "\n",
    "    def push(self, e):\n",
    "        self._data.append(e)\n",
    "\n",
    "    def pop(self):\n",
    "        if len(self._data) == 0:\n",
    "            return False\n",
    "        return self._data.pop()\n",
    "\n",
    "    def sort(self):\n",
    "        temp_stack = []\n",
    "        trigger = True\n",
    "\n",
    "        while trigger:\n",
    "            counter = 1 \n",
    "            temp_var = self._data.pop()\n",
    "            for _ in range(len(self._data)):\n",
    "                if self._data[-1] < temp_var:\n",
    "                    temp_stack.append(self._data.pop())\n",
    "                    counter += 1 \n",
    "                else:\n",
    "                    temp_stack.append(temp_var)\n",
    "                    temp_var = self._data.pop()\n",
    "\n",
    "            temp_stack.append(temp_var)\n",
    "            for _ in range(len(temp_stack)):\n",
    "                self._data.append(temp_stack.pop())\n",
    "\n",
    "            if counter - 1 == 0:\n",
    "                trigger = False "
   ]
  },
  {
   "cell_type": "code",
   "execution_count": 22,
   "id": "48f8869c-4484-40f6-a6c8-818920ad4c0f",
   "metadata": {},
   "outputs": [],
   "source": [
    "x = SotredStack()"
   ]
  },
  {
   "cell_type": "code",
   "execution_count": 23,
   "id": "64fd3bf1-e1f1-4b10-996f-684bfefa661c",
   "metadata": {},
   "outputs": [],
   "source": [
    "x.push(5)\n",
    "x.push(8)\n",
    "x.push(9)\n",
    "x.push(3)\n",
    "x.push(6)\n",
    "x.push(1)\n",
    "x.sort()"
   ]
  },
  {
   "cell_type": "code",
   "execution_count": 29,
   "id": "773b27c7-0c54-4af7-9ac6-f1e2dca3f558",
   "metadata": {},
   "outputs": [
    {
     "data": {
      "text/plain": [
       "9"
      ]
     },
     "execution_count": 29,
     "metadata": {},
     "output_type": "execute_result"
    }
   ],
   "source": [
    "x.pop()"
   ]
  },
  {
   "cell_type": "code",
   "execution_count": null,
   "id": "3d6ae3c9-1e49-440f-a368-d0a25f66fd2a",
   "metadata": {},
   "outputs": [],
   "source": []
  }
 ],
 "metadata": {
  "kernelspec": {
   "display_name": "Python 3.8.8 64-bit ('base': conda)",
   "language": "python",
   "name": "python388jvsc74a57bd00bf73f7297f686c0b19ffdd2372947202a4bea606da3ac88b9be4d5cf42ab10a"
  },
  "language_info": {
   "codemirror_mode": {
    "name": "ipython",
    "version": 3
   },
   "file_extension": ".py",
   "mimetype": "text/x-python",
   "name": "python",
   "nbconvert_exporter": "python",
   "pygments_lexer": "ipython3",
   "version": "3.8.8"
  }
 },
 "nbformat": 4,
 "nbformat_minor": 5
}
